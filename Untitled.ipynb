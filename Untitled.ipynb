{
 "cells": [
  {
   "cell_type": "code",
   "execution_count": 1,
   "id": "018779d7",
   "metadata": {},
   "outputs": [
    {
     "name": "stdout",
     "output_type": "stream",
     "text": [
      "hello\n"
     ]
    }
   ],
   "source": [
    "print(\"hello\")"
   ]
  },
  {
   "cell_type": "code",
   "execution_count": 2,
   "id": "6bfd4c71",
   "metadata": {},
   "outputs": [
    {
     "name": "stdout",
     "output_type": "stream",
     "text": [
      "Requirement already satisfied: spylon-kernel in /home/prasoon/.local/lib/python3.8/site-packages (0.4.1)\n",
      "Requirement already satisfied: tornado in /home/prasoon/.local/lib/python3.8/site-packages (from spylon-kernel) (6.1)\n",
      "Requirement already satisfied: jedi>=0.10 in /home/prasoon/.local/lib/python3.8/site-packages (from spylon-kernel) (0.18.1)\n",
      "Requirement already satisfied: metakernel in /home/prasoon/.local/lib/python3.8/site-packages (from spylon-kernel) (0.29.2)\n",
      "Requirement already satisfied: spylon[spark] in /home/prasoon/.local/lib/python3.8/site-packages (from spylon-kernel) (0.3.0)\n",
      "Requirement already satisfied: ipykernel in /home/prasoon/.local/lib/python3.8/site-packages (from spylon-kernel) (6.13.0)\n",
      "Requirement already satisfied: parso<0.9.0,>=0.8.0 in /home/prasoon/.local/lib/python3.8/site-packages (from jedi>=0.10->spylon-kernel) (0.8.3)\n",
      "Requirement already satisfied: jupyter-core>=4.9.2 in /home/prasoon/.local/lib/python3.8/site-packages (from metakernel->spylon-kernel) (4.10.0)\n",
      "Requirement already satisfied: pexpect>=4.8 in /home/prasoon/.local/lib/python3.8/site-packages (from metakernel->spylon-kernel) (4.8.0)\n",
      "Requirement already satisfied: pyyaml; extra == \"spark\" in /usr/lib/python3/dist-packages (from spylon[spark]->spylon-kernel) (5.3.1)\n",
      "Requirement already satisfied: findspark; extra == \"spark\" in /home/prasoon/.local/lib/python3.8/site-packages (from spylon[spark]->spylon-kernel) (2.0.1)\n",
      "Requirement already satisfied: debugpy>=1.0 in /home/prasoon/.local/lib/python3.8/site-packages (from ipykernel->spylon-kernel) (1.6.0)\n",
      "Requirement already satisfied: jupyter-client>=6.1.12 in /home/prasoon/.local/lib/python3.8/site-packages (from ipykernel->spylon-kernel) (7.3.1)\n",
      "Requirement already satisfied: ipython>=7.23.1 in /home/prasoon/.local/lib/python3.8/site-packages (from ipykernel->spylon-kernel) (8.4.0)\n",
      "Requirement already satisfied: traitlets>=5.1.0 in /home/prasoon/.local/lib/python3.8/site-packages (from ipykernel->spylon-kernel) (5.2.2.post1)\n",
      "Requirement already satisfied: nest-asyncio in /home/prasoon/.local/lib/python3.8/site-packages (from ipykernel->spylon-kernel) (1.5.5)\n",
      "Requirement already satisfied: packaging in /home/prasoon/.local/lib/python3.8/site-packages (from ipykernel->spylon-kernel) (21.3)\n",
      "Requirement already satisfied: matplotlib-inline>=0.1 in /home/prasoon/.local/lib/python3.8/site-packages (from ipykernel->spylon-kernel) (0.1.3)\n",
      "Requirement already satisfied: psutil in /home/prasoon/.local/lib/python3.8/site-packages (from ipykernel->spylon-kernel) (5.9.1)\n",
      "Requirement already satisfied: ptyprocess>=0.5 in /home/prasoon/.local/lib/python3.8/site-packages (from pexpect>=4.8->metakernel->spylon-kernel) (0.7.0)\n",
      "Requirement already satisfied: entrypoints in /usr/lib/python3/dist-packages (from jupyter-client>=6.1.12->ipykernel->spylon-kernel) (0.3)\n",
      "Requirement already satisfied: python-dateutil>=2.8.2 in /home/prasoon/.local/lib/python3.8/site-packages (from jupyter-client>=6.1.12->ipykernel->spylon-kernel) (2.8.2)\n",
      "Requirement already satisfied: pyzmq>=22.3 in /home/prasoon/.local/lib/python3.8/site-packages (from jupyter-client>=6.1.12->ipykernel->spylon-kernel) (23.1.0)\n",
      "Requirement already satisfied: decorator in /home/prasoon/.local/lib/python3.8/site-packages (from ipython>=7.23.1->ipykernel->spylon-kernel) (5.1.1)\n",
      "Requirement already satisfied: setuptools>=18.5 in /usr/lib/python3/dist-packages (from ipython>=7.23.1->ipykernel->spylon-kernel) (45.2.0)\n",
      "Requirement already satisfied: prompt-toolkit!=3.0.0,!=3.0.1,<3.1.0,>=2.0.0 in /home/prasoon/.local/lib/python3.8/site-packages (from ipython>=7.23.1->ipykernel->spylon-kernel) (3.0.29)\n",
      "Requirement already satisfied: backcall in /home/prasoon/.local/lib/python3.8/site-packages (from ipython>=7.23.1->ipykernel->spylon-kernel) (0.2.0)\n",
      "Requirement already satisfied: stack-data in /home/prasoon/.local/lib/python3.8/site-packages (from ipython>=7.23.1->ipykernel->spylon-kernel) (0.2.0)\n",
      "Requirement already satisfied: pickleshare in /home/prasoon/.local/lib/python3.8/site-packages (from ipython>=7.23.1->ipykernel->spylon-kernel) (0.7.5)\n",
      "Requirement already satisfied: pygments>=2.4.0 in /home/prasoon/.local/lib/python3.8/site-packages (from ipython>=7.23.1->ipykernel->spylon-kernel) (2.12.0)\n",
      "Requirement already satisfied: pyparsing!=3.0.5,>=2.0.2 in /home/prasoon/.local/lib/python3.8/site-packages (from packaging->ipykernel->spylon-kernel) (3.0.9)\n",
      "Requirement already satisfied: six>=1.5 in /usr/lib/python3/dist-packages (from python-dateutil>=2.8.2->jupyter-client>=6.1.12->ipykernel->spylon-kernel) (1.14.0)\n",
      "Requirement already satisfied: wcwidth in /home/prasoon/.local/lib/python3.8/site-packages (from prompt-toolkit!=3.0.0,!=3.0.1,<3.1.0,>=2.0.0->ipython>=7.23.1->ipykernel->spylon-kernel) (0.2.5)\n",
      "Requirement already satisfied: pure-eval in /home/prasoon/.local/lib/python3.8/site-packages (from stack-data->ipython>=7.23.1->ipykernel->spylon-kernel) (0.2.2)\n",
      "Requirement already satisfied: executing in /home/prasoon/.local/lib/python3.8/site-packages (from stack-data->ipython>=7.23.1->ipykernel->spylon-kernel) (0.8.3)\n",
      "Requirement already satisfied: asttokens in /home/prasoon/.local/lib/python3.8/site-packages (from stack-data->ipython>=7.23.1->ipykernel->spylon-kernel) (2.0.5)\n"
     ]
    }
   ],
   "source": [
    "!pip install spylon-kernel"
   ]
  },
  {
   "cell_type": "code",
   "execution_count": null,
   "id": "0d5bd774",
   "metadata": {},
   "outputs": [],
   "source": []
  }
 ],
 "metadata": {
  "kernelspec": {
   "display_name": "Python 3 (ipykernel)",
   "language": "python",
   "name": "python3"
  },
  "language_info": {
   "codemirror_mode": {
    "name": "ipython",
    "version": 3
   },
   "file_extension": ".py",
   "mimetype": "text/x-python",
   "name": "python",
   "nbconvert_exporter": "python",
   "pygments_lexer": "ipython3",
   "version": "3.8.10"
  }
 },
 "nbformat": 4,
 "nbformat_minor": 5
}
